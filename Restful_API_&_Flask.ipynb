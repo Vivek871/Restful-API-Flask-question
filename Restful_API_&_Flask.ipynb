{
  "nbformat": 4,
  "nbformat_minor": 0,
  "metadata": {
    "colab": {
      "provenance": []
    },
    "kernelspec": {
      "name": "python3",
      "display_name": "Python 3"
    },
    "language_info": {
      "name": "python"
    }
  },
  "cells": [
    {
      "cell_type": "markdown",
      "source": [
        "#Restful Api &flask"
      ],
      "metadata": {
        "id": "d9z5Mgf72_lV"
      }
    },
    {
      "cell_type": "markdown",
      "source": [
        " 1.What is a RESTful API?\n",
        "\n",
        " - A RESTful API (Representational State Transfer) is an architectural style for designing networked applications. It uses standard HTTP methods (GET, POST, PUT, DELETE) to interact with resources.\n",
        "\n",
        " 2.Explain the concept of API specification.\n",
        "\n",
        " -An API specification is a document that describes how developers should interact with an API. It outlines the available endpoints, required parameters, response formats, authentication methods, and error handling. Popular specifications include OpenAPI (formerly Swagger).\n",
        "\n",
        " 3.What is Flask, and why is it popular for building APIs.\n",
        "\n",
        " -Flask is a lightweight Python web framework. It's popular for building APIs because it's simple, flexible, and doesn't impose a lot of structure, allowing developers to choose their own tools and libraries.\n",
        "\n",
        " 4.What is routing in Flask?\n",
        "\n",
        " -Routing in Flask is the process of mapping URLs to Python functions. When a user requests a specific URL, Flask uses routing to determine which function should handle that request.\n",
        "\n",
        " 5.How do you create a simple Flask application?\n",
        "\n",
        " -You create a simple Flask application by importing the Flask class, creating an instance of the class, defining a route using the @app.route() decorator, and running the application.\n",
        "\n",
        " from flask import Flask\n",
        "\n",
        "app = Flask(__name__)\n",
        "\n",
        "@app.route('/')\n",
        "def hello_world():\n",
        "    return 'Hello, World!'\n",
        "\n",
        "if __name__ == '__main__':\n",
        "    app.run()\n",
        "\n",
        " 6.What are HTTP methods used in RESTful APIs?\n",
        "\n",
        " - Common HTTP methods used in RESTful APIs include:\n",
        "GET: Retrieve data from a resource.\n",
        "\n",
        "POST: Create a new resource.\n",
        "\n",
        "PUT: Update an existing resource.\n",
        "\n",
        "DELETE: Delete a resource.\n",
        "\n",
        "PATCH: Apply partial modifications to a resource\n",
        "\n",
        " 7.What is the purpose of the @app.route() decorator in Flask?\n",
        "\n",
        " -The @app.route() decorator is used to bind a URL to a Python function. It tells Flask which function should execute when a user accesses a specific URL.\n",
        "\n",
        " 8.What is the difference between GET and POST HTTP methods?\n",
        "\n",
        " -GET: Used to request data from a specified resource. Data is sent in the URL query string and is visible. GET requests should not have side effects (they should be idempotent).\n",
        "\n",
        "POST: Used to send data to a server to create or update a resource. Data is sent in the request body and is not visible in the URL. POST requests can have side effects.\n",
        "\n",
        "\n",
        " 9.How do you handle errors in Flask APIs?\n",
        "\n",
        " -You can handle errors in Flask APIs using error handlers. The @app.errorhandler() decorator can be used to register a function that will be called when a specific HTTP status code occurs.\n",
        " @app.errorhandler(404)\n",
        "def not_found_error(error):\n",
        "    return jsonify({'error': 'Not found'}), 404\n",
        "\n",
        "\n",
        " 10.How do you connect Flask to a SQL database?\n",
        "\n",
        " - You can connect Flask to a SQL database using libraries like SQLAlchemy. You would typically install SQLAlchemy and a database driver (e.g., psycopg2 for PostgreSQL, mysql-connector-python for MySQL) and then configure the database connection string in your Flask application.\n",
        "\n",
        " 11.What is the role of Flask-SQLAlchemy?\n",
        "\n",
        " -Flask-SQLAlchemy is a Flask extension that provides SQLAlchemy support. It simplifies the process of using SQLAlchemy with Flask by providing helpful defaults and making common tasks easier, such as setting up the database connection and defining models.\n",
        "\n",
        " 12.What are Flask blueprints, and how are they useful?\n",
        "\n",
        " - Flask blueprints are a way to organize your Flask application into smaller, reusable components. They allow you to define routes, error handlers, and other application-specific configurations in a modular way. Blueprints are useful for building larger applications or for creating reusable packages.\n",
        "\n",
        " 13.What is the purpose of Flask's request object?\n",
        "\n",
        " -The request object in Flask holds all the incoming request data, such as form data, query parameters, headers, and files. You can access this object within your route functions to process the data sent by the client.\n",
        "\n",
        " 14.How do you create a RESTful API endpoint using Flask?\n",
        "\n",
        " -You create a RESTful API endpoint in Flask by defining a route using @app.route() and specifying the HTTP methods it should handle using the methods argument.\n",
        "\n",
        " @app.route('/api/users', methods=['GET', 'POST'])\n",
        "def users():\n",
        "    if request.method == 'GET':\n",
        "        # Handle GET request\n",
        "        pass\n",
        "    elif request.method == 'POST':\n",
        "        # Handle POST request\n",
        "        pass\n",
        "\n",
        " 15.What is the purpose of Flask's jsonify() function?\n",
        "\n",
        " -The jsonify() function in Flask is used to serialize Python dictionaries into JSON format and return a Response object with the Content-Type header set to application/json. This is commonly used when building RESTful APIs to return data in a structured format.\n",
        "\n",
        " 16.Explain Flask’s url_for() function?\n",
        "\n",
        " - The url_for() function in Flask is used to generate a URL for a specific function. Instead of hardcoding URLs in your templates or code, you use url_for() with the name of the function. This makes your application more flexible and easier to maintain, as you can change URLs without updating every link.\n",
        "\n",
        " 17.How does Flask handle static files (CSS, JavaScript, etc.)?\n",
        "\n",
        " -Flask automatically handles static files by serving them from a directory named static in your application's root directory. You can link to these files in your HTML templates using the url_for() function with the endpoint name 'static'.\n",
        "\n",
        " 18.What is an API specification, and how does it help in building a Flask API?\n",
        "\n",
        "- An API specification (like OpenAPI) defines the structure and behavior of your API. It helps in building a Flask API by providing a clear contract for both the API developer and the consumers. It can be used to generate documentation, client libraries, and server stubs.\n",
        "\n",
        " 19.What are HTTP status codes, and why are they important in a Flask API?\n",
        "\n",
        " -HTTP status codes are three-digit numbers returned by the server to indicate the status of a request (e.g., 200 OK, 404 Not Found, 500 Internal Server Error). They are important in a Flask API because they provide standardized feedback to the client about the outcome of their request.\n",
        "\n",
        " 20.How do you handle POST requests in Flask?\n",
        "\n",
        " - You handle POST requests in Flask by specifying 'POST' in the methods argument of the @app.route() decorator and accessing the data sent in the request body using the request object (e.g., request.form for form data, request.get_json() for JSON data).\n",
        "\n",
        "21.How would you secure a Flask API?\n",
        "\n",
        "-Securing a Flask API involves several aspects:\n",
        "\n",
        "Authentication: Verify the identity of the client (e.g., using API keys, OAuth).\n",
        "\n",
        "Authorization: Control what resources an authenticated client can access.\n",
        "\n",
        "Input validation: Sanitize and validate all incoming data to prevent injection attacks.\n",
        "\n",
        "HTTPS: Use HTTPS to encrypt communication between the client and the server.\n",
        "\n",
        "Rate limiting: Limit the number of requests from a single source to prevent abuse.\n",
        "\n",
        "Error handling: Avoid revealing sensitive information in error messages.\n",
        "\n",
        " 22.What is the significance of the Flask-RESTful extension?\n",
        "\n",
        " -Flask-RESTful is a Flask extension that provides tools for building REST APIs. It simplifies the process by providing abstractions like Resources, which make it easier to handle different HTTP methods for a given endpoint and parse request arguments.\n",
        "\n",
        " 23.What is the role of Flask’s session object?\n",
        "\n",
        " -Flask's session object is used to store data specific to a client across multiple requests. It uses cookies to store a session ID on the client side, and the actual session data is stored on the server (by default, in signed cookies). This is useful for maintaining user state, such as login information."
      ],
      "metadata": {
        "id": "xARKY2Ku3JLc"
      }
    },
    {
      "cell_type": "markdown",
      "source": [
        "#Practical"
      ],
      "metadata": {
        "id": "99W7CcmZ7e1a"
      }
    },
    {
      "cell_type": "markdown",
      "source": [
        "1. How do you create a basic Flask application?"
      ],
      "metadata": {
        "id": "WDE_cLwv7pqF"
      }
    },
    {
      "cell_type": "code",
      "metadata": {
        "id": "ae203338"
      },
      "source": [
        "from flask import Flask\n",
        "\n",
        "app = Flask(__name__)\n",
        "\n",
        "@app.route('/')\n",
        "def hello_world():\n",
        "  return 'Hello, World!'\n",
        "\n",
        "if __name__ == '__main__':\n",
        "  app.run(port=5000)"
      ],
      "execution_count": null,
      "outputs": []
    },
    {
      "cell_type": "markdown",
      "source": [
        "2.How do you serve static files like images or CSS in Flask?"
      ],
      "metadata": {
        "id": "VHjMsx6U8KJD"
      }
    },
    {
      "cell_type": "code",
      "metadata": {
        "colab": {
          "base_uri": "https://localhost:8080/"
        },
        "id": "2276a6c5",
        "outputId": "70944aef-5087-4ec4-e1bb-fce70d8fe986"
      },
      "source": [
        "from flask import Flask, render_template\n",
        "\n",
        "app = Flask(__name__)\n",
        "\n",
        "@app.route('/')\n",
        "def index():\n",
        "  return render_template('index.html')\n",
        "\n",
        "if __name__ == '__main__':\n",
        "  app.run(port=5000)"
      ],
      "execution_count": 4,
      "outputs": [
        {
          "output_type": "stream",
          "name": "stdout",
          "text": [
            " * Serving Flask app '__main__'\n",
            " * Debug mode: off\n"
          ]
        },
        {
          "output_type": "stream",
          "name": "stderr",
          "text": [
            "INFO:werkzeug:\u001b[31m\u001b[1mWARNING: This is a development server. Do not use it in a production deployment. Use a production WSGI server instead.\u001b[0m\n",
            " * Running on http://127.0.0.1:5000\n",
            "INFO:werkzeug:\u001b[33mPress CTRL+C to quit\u001b[0m\n"
          ]
        }
      ]
    },
    {
      "cell_type": "markdown",
      "source": [
        "3.How do you define different routes with different HTTP methods in Flask?"
      ],
      "metadata": {
        "id": "9nPFkKB38wtz"
      }
    },
    {
      "cell_type": "code",
      "metadata": {
        "id": "588ead57"
      },
      "source": [
        "from flask import Flask, request\n",
        "\n",
        "app = Flask(__name__)\n",
        "\n",
        "@app.route('/api/users', methods=['GET', 'POST'])\n",
        "def users():\n",
        "  if request.method == 'GET':\n",
        "\n",
        "    return 'Handling GET request for users'\n",
        "  elif request.method == 'POST':\n",
        "\n",
        "    return 'Handling POST request for users'\n",
        "\n",
        "@app.route('/api/users/<int:user_id>', methods=['GET', 'PUT', 'DELETE'])\n",
        "def user(user_id):\n",
        "  if request.method == 'GET':\n",
        "\n",
        "    return f'Handling GET request for user with ID {user_id}'\n",
        "  elif request.method == 'PUT':\n",
        "\n",
        "    return f'Handling PUT request for user with ID {user_id}'\n",
        "  elif request.method == 'DELETE':\n",
        "\n",
        "    return f'Handling DELETE request for user with ID {user_id}'\n",
        "\n",
        "if __name__ == '__main__':\n",
        "  app.run(port=5000)"
      ],
      "execution_count": null,
      "outputs": []
    },
    {
      "cell_type": "markdown",
      "source": [
        "4.How do you render HTML templates in Flask?"
      ],
      "metadata": {
        "id": "R-Q0J_K59D8n"
      }
    },
    {
      "cell_type": "code",
      "metadata": {
        "colab": {
          "base_uri": "https://localhost:8080/"
        },
        "id": "c3b4c308",
        "outputId": "1784ca55-fed7-4b49-d9df-2fea34fcf0c5"
      },
      "source": [
        "from flask import Flask, render_template\n",
        "\n",
        "app = Flask(__name__)\n",
        "\n",
        "@app.route('/')\n",
        "def index():\n",
        "  # Render the 'index.html' template\n",
        "  return render_template('index.html')\n",
        "\n",
        "if __name__ == '__main__':\n",
        "\n",
        "  app.run(port=5000)"
      ],
      "execution_count": 5,
      "outputs": [
        {
          "output_type": "stream",
          "name": "stdout",
          "text": [
            " * Serving Flask app '__main__'\n",
            " * Debug mode: off\n"
          ]
        },
        {
          "output_type": "stream",
          "name": "stderr",
          "text": [
            "INFO:werkzeug:\u001b[31m\u001b[1mWARNING: This is a development server. Do not use it in a production deployment. Use a production WSGI server instead.\u001b[0m\n",
            " * Running on http://127.0.0.1:5000\n",
            "INFO:werkzeug:\u001b[33mPress CTRL+C to quit\u001b[0m\n"
          ]
        }
      ]
    },
    {
      "cell_type": "markdown",
      "metadata": {
        "id": "a41c0bd5"
      },
      "source": [
        "Now, create a `templates` folder in the same directory as your Python file, and inside it, create an `index.html` file with the following content:"
      ]
    },
    {
      "cell_type": "code",
      "metadata": {
        "id": "b83431ab"
      },
      "source": [
        "<!DOCTYPE html>\n",
        "<html>\n",
        "<head>\n",
        "    <title>Template Example</title>\n",
        "</head>\n",
        "<body>\n",
        "    <h1>Hello from a Flask Template!</h1>\n",
        "    <p>This content is rendered from an HTML template.</p>\n",
        "</body>\n",
        "</html>"
      ],
      "execution_count": null,
      "outputs": []
    },
    {
      "cell_type": "markdown",
      "source": [
        "5.How can you generate URLs for routes in Flask using url_for?"
      ],
      "metadata": {
        "id": "rNQglBRU9Sw3"
      }
    },
    {
      "cell_type": "code",
      "metadata": {
        "colab": {
          "base_uri": "https://localhost:8080/"
        },
        "id": "945b4d4a",
        "outputId": "cb3fa6a0-d816-4818-b5bb-8b52d49f6309"
      },
      "source": [
        "from flask import Flask, url_for\n",
        "\n",
        "app = Flask(__name__)\n",
        "\n",
        "@app.route('/')\n",
        "def index():\n",
        "  return 'Welcome to the home page'\n",
        "\n",
        "@app.route('/user/<username>')\n",
        "def show_user_profile(username):\n",
        "  return f'User: {username}'\n",
        "\n",
        "@app.route('/post/<int:post_id>')\n",
        "def show_post(post_id):\n",
        "  return f'Post ID: {post_id}'\n",
        "\n",
        "@app.route('/login')\n",
        "def login():\n",
        "  return 'Login Page'\n",
        "\n",
        "if __name__ == '__main__':\n",
        "  with app.test_request_context():\n",
        "    # Generate URLs for different routes\n",
        "    print(url_for('index'))\n",
        "    print(url_for('show_user_profile', username='Alice'))\n",
        "    print(url_for('show_post', post_id=1))\n",
        "    print(url_for('login'))\n",
        "    print(url_for('login', next='/'))\n",
        "\n",
        "  app.run(port=5000)"
      ],
      "execution_count": 6,
      "outputs": [
        {
          "output_type": "stream",
          "name": "stdout",
          "text": [
            "/\n",
            "/user/Alice\n",
            "/post/1\n",
            "/login\n",
            "/login?next=/\n",
            " * Serving Flask app '__main__'\n",
            " * Debug mode: off\n"
          ]
        },
        {
          "output_type": "stream",
          "name": "stderr",
          "text": [
            "INFO:werkzeug:\u001b[31m\u001b[1mWARNING: This is a development server. Do not use it in a production deployment. Use a production WSGI server instead.\u001b[0m\n",
            " * Running on http://127.0.0.1:5000\n",
            "INFO:werkzeug:\u001b[33mPress CTRL+C to quit\u001b[0m\n"
          ]
        }
      ]
    },
    {
      "cell_type": "markdown",
      "source": [
        "6.How do you handle forms in Flask?\n",
        "\n",
        "Handling forms in Flask involves several steps. Here's a plan to demonstrate how to handle forms:\n",
        "\n",
        "Create a simple flask application: Set up a basic Flask app with a route to display the form and a route to handle form submissions.\n",
        "\n",
        "Create an html form: Define an HTML form with input fields and a submit button in a template file.\n",
        "\n",
        "Render the form: Use render_template to display the HTML form when the form route is accessed.\n",
        "\n",
        "Handle form submission: In the form submission route, access the form data using request.form.\n",
        "\n",
        "Display submitted data: Render a new template or display the submitted data directly to confirm it was received.\n",
        "\n",
        "Finish task: Put the findings from the earlier stages into a format that anyone can read."
      ],
      "metadata": {
        "id": "JOQXg-9t9mAz"
      }
    },
    {
      "cell_type": "markdown",
      "source": [
        "7. How can you validate form data in Flask?"
      ],
      "metadata": {
        "id": "Bnqf7LC6995n"
      }
    },
    {
      "cell_type": "markdown",
      "metadata": {
        "id": "96cf5840"
      },
      "source": [
        "First, you'll need to install Flask-WTF:"
      ]
    },
    {
      "cell_type": "code",
      "metadata": {
        "colab": {
          "base_uri": "https://localhost:8080/"
        },
        "id": "b4478989",
        "outputId": "4414e0bc-0295-4dd3-9eda-4e225b9dd32b"
      },
      "source": [
        "!pip install Flask-WTF"
      ],
      "execution_count": 7,
      "outputs": [
        {
          "output_type": "stream",
          "name": "stdout",
          "text": [
            "Collecting Flask-WTF\n",
            "  Downloading flask_wtf-1.2.2-py3-none-any.whl.metadata (3.4 kB)\n",
            "Requirement already satisfied: flask in /usr/local/lib/python3.11/dist-packages (from Flask-WTF) (3.1.1)\n",
            "Requirement already satisfied: itsdangerous in /usr/local/lib/python3.11/dist-packages (from Flask-WTF) (2.2.0)\n",
            "Collecting wtforms (from Flask-WTF)\n",
            "  Downloading wtforms-3.2.1-py3-none-any.whl.metadata (5.3 kB)\n",
            "Requirement already satisfied: blinker>=1.9.0 in /usr/local/lib/python3.11/dist-packages (from flask->Flask-WTF) (1.9.0)\n",
            "Requirement already satisfied: click>=8.1.3 in /usr/local/lib/python3.11/dist-packages (from flask->Flask-WTF) (8.2.1)\n",
            "Requirement already satisfied: jinja2>=3.1.2 in /usr/local/lib/python3.11/dist-packages (from flask->Flask-WTF) (3.1.6)\n",
            "Requirement already satisfied: markupsafe>=2.1.1 in /usr/local/lib/python3.11/dist-packages (from flask->Flask-WTF) (3.0.2)\n",
            "Requirement already satisfied: werkzeug>=3.1.0 in /usr/local/lib/python3.11/dist-packages (from flask->Flask-WTF) (3.1.3)\n",
            "Downloading flask_wtf-1.2.2-py3-none-any.whl (12 kB)\n",
            "Downloading wtforms-3.2.1-py3-none-any.whl (152 kB)\n",
            "\u001b[2K   \u001b[90m━━━━━━━━━━━━━━━━━━━━━━━━━━━━━━━━━━━━━━━━\u001b[0m \u001b[32m152.5/152.5 kB\u001b[0m \u001b[31m1.1 MB/s\u001b[0m eta \u001b[36m0:00:00\u001b[0m\n",
            "\u001b[?25hInstalling collected packages: wtforms, Flask-WTF\n",
            "Successfully installed Flask-WTF-1.2.2 wtforms-3.2.1\n"
          ]
        }
      ]
    },
    {
      "cell_type": "markdown",
      "metadata": {
        "id": "439a1fc7"
      },
      "source": [
        "Then, you can define a form class using Flask-WTF and use it in your Flask application:"
      ]
    },
    {
      "cell_type": "code",
      "metadata": {
        "colab": {
          "base_uri": "https://localhost:8080/"
        },
        "id": "2ac52dc8",
        "outputId": "2be7790d-61ef-4d6d-b6a4-d0bd660a35e7"
      },
      "source": [
        "from flask import Flask, render_template, request, redirect, url_for\n",
        "from flask_wtf import FlaskForm\n",
        "from wtforms import StringField, SubmitField\n",
        "from wtforms.validators import DataRequired, Email\n",
        "\n",
        "app = Flask(__name__)\n",
        "app.config['SECRET_KEY'] = 'your_secret_key' # Required for Flask-WTF\n",
        "\n",
        "# Define a simple form\n",
        "class MyForm(FlaskForm):\n",
        "    name = StringField('Name', validators=[DataRequired()])\n",
        "    email = StringField('Email', validators=[DataRequired(), Email()])\n",
        "    submit = SubmitField('Submit')\n",
        "\n",
        "@app.route('/form', methods=['GET', 'POST'])\n",
        "def form():\n",
        "    form = MyForm()\n",
        "    if form.validate_on_submit():\n",
        "        # Process the valid data\n",
        "        name = form.name.data\n",
        "        email = form.email.data\n",
        "        return f'Form submitted successfully! Name: {name}, Email: {email}'\n",
        "    # Render the form template\n",
        "    return render_template('form.html', form=form)\n",
        "\n",
        "if __name__ == '__main__':\n",
        "    # Use a port other than 8080 or 8000 because they are often used by Colab's internal processes.\n",
        "    app.run(port=5000)"
      ],
      "execution_count": 8,
      "outputs": [
        {
          "output_type": "stream",
          "name": "stdout",
          "text": [
            " * Serving Flask app '__main__'\n",
            " * Debug mode: off\n"
          ]
        },
        {
          "output_type": "stream",
          "name": "stderr",
          "text": [
            "INFO:werkzeug:\u001b[31m\u001b[1mWARNING: This is a development server. Do not use it in a production deployment. Use a production WSGI server instead.\u001b[0m\n",
            " * Running on http://127.0.0.1:5000\n",
            "INFO:werkzeug:\u001b[33mPress CTRL+C to quit\u001b[0m\n"
          ]
        }
      ]
    },
    {
      "cell_type": "markdown",
      "metadata": {
        "id": "22009cca"
      },
      "source": [
        "Now, create a `templates` folder and inside it, create a `form.html` file with the following content:"
      ]
    },
    {
      "cell_type": "code",
      "metadata": {
        "id": "6de761ce"
      },
      "source": [
        "<!DOCTYPE html>\n",
        "<html>\n",
        "<head>\n",
        "    <title>Form Validation Example</title>\n",
        "</head>\n",
        "<body>\n",
        "    <h1>Fill out the form</h1>\n",
        "    <form method=\"POST\">\n",
        "        {{ form.csrf_token }}\n",
        "        <div>\n",
        "            {{ form.name.label }}<br>\n",
        "            {{ form.name() }}\n",
        "            {% if form.name.errors %}\n",
        "                <ul class=\"errors\">\n",
        "                    {% for error in form.name.errors %}\n",
        "                        <li>{{ error }}</li>\n",
        "                    {% endfor %}\n",
        "                </ul>\n",
        "            {% endif %}\n",
        "        </div>\n",
        "        <div>\n",
        "            {{ form.email.label }}<br>\n",
        "            {{ form.email() }}\n",
        "            {% if form.email.errors %}\n",
        "                <ul class=\"errors\">\n",
        "                    {% for error in form.email.errors %}\n",
        "                        <li>{{ error }}</li>\n",
        "                    {% endfor %}\n",
        "                </ul>\n",
        "            {% endif %}\n",
        "        </div>\n",
        "        <div>\n",
        "            {{ form.submit() }}\n",
        "        </div>\n",
        "    </form>\n",
        "</body>\n",
        "</html>"
      ],
      "execution_count": null,
      "outputs": []
    },
    {
      "cell_type": "markdown",
      "source": [
        "8.How do you manage sessions in Flask?"
      ],
      "metadata": {
        "id": "kOKHxUa5-Tgv"
      }
    },
    {
      "cell_type": "code",
      "metadata": {
        "id": "6ccd13b6"
      },
      "source": [
        "from flask import Flask, session, redirect, url_for, request\n",
        "\n",
        "app = Flask(__name__)\n",
        "app.config['SECRET_KEY'] = 'super secret key' # A secret key is required for sessions\n",
        "\n",
        "@app.route('/')\n",
        "def index():\n",
        "    if 'username' in session:\n",
        "        return f'Logged in as {session[\"username\"]} <br> <a href=\"/logout\">Logout</a>'\n",
        "    return 'You are not logged in <br> <a href=\"/login\">Login</a>'\n",
        "\n",
        "@app.route('/login', methods=['GET', 'POST'])\n",
        "def login():\n",
        "    if request.method == 'POST':\n",
        "        session['username'] = request.form['username']\n",
        "        return redirect(url_for('index'))\n",
        "    return '''\n",
        "        <form method=\"post\">\n",
        "            <p><input type=text name=username>\n",
        "            <p><input type=submit value=Login>\n",
        "        </form>\n",
        "    '''\n",
        "\n",
        "@app.route('/logout')\n",
        "def logout():\n",
        "    # remove the username from the session if it's there\n",
        "    session.pop('username', None)\n",
        "    return redirect(url_for('index'))\n",
        "\n",
        "if __name__ == '__main__':\n",
        "    # Use a port other than 8080 or 8000 because they are often used by Colab's internal processes.\n",
        "    app.run(port=5000)"
      ],
      "execution_count": null,
      "outputs": []
    },
    {
      "cell_type": "markdown",
      "source": [
        "9. How do you redirect to a different route in Flask?"
      ],
      "metadata": {
        "id": "Hv6ZjefS-dkJ"
      }
    },
    {
      "cell_type": "code",
      "metadata": {
        "id": "9a41e326"
      },
      "source": [
        "from flask import Flask, redirect, url_for\n",
        "\n",
        "app = Flask(__name__)\n",
        "\n",
        "@app.route('/')\n",
        "def index():\n",
        "    return 'Welcome to the home page. Go to the <a href=\"/dashboard\">Dashboard</a>.'\n",
        "\n",
        "@app.route('/dashboard')\n",
        "def dashboard():\n",
        "    return 'Welcome to the Dashboard!'\n",
        "\n",
        "@app.route('/login')\n",
        "def login():\n",
        "\n",
        "    return redirect(url_for('dashboard'))\n",
        "\n",
        "if __name__ == '__main__':\n",
        "\n",
        "    app.run(port=5000)"
      ],
      "execution_count": null,
      "outputs": []
    },
    {
      "cell_type": "markdown",
      "source": [
        "10.How do you handle errors in Flask (e.g., 404)?"
      ],
      "metadata": {
        "id": "EoTG7SPN-3Zh"
      }
    },
    {
      "cell_type": "code",
      "metadata": {
        "id": "36557005"
      },
      "source": [
        "from flask import Flask, render_template\n",
        "\n",
        "app = Flask(__name__)\n",
        "\n",
        "@app.route('/')\n",
        "def index():\n",
        "    return 'Welcome to the home page.'\n",
        "\n",
        "# Define an error handler for 404 Not Found errors\n",
        "@app.errorhandler(404)\n",
        "def page_not_found(error):\n",
        "    return render_template('404.html'), 404\n",
        "\n",
        "if __name__ == '__main__':\n",
        "    # Use a port other than 8080 or 8000 because they are often used by Colab's internal processes.\n",
        "    app.run(port=5000)"
      ],
      "execution_count": null,
      "outputs": []
    },
    {
      "cell_type": "markdown",
      "metadata": {
        "id": "0f511614"
      },
      "source": [
        "Now, create a `templates` folder and inside it, create a `404.html` file with the following content:"
      ]
    },
    {
      "cell_type": "code",
      "metadata": {
        "id": "fd87de28"
      },
      "source": [
        "<!DOCTYPE html>\n",
        "<html>\n",
        "<head>\n",
        "    <title>Page Not Found</title>\n",
        "</head>\n",
        "<body>\n",
        "    <h1>404 - Page Not Found</h1>\n",
        "    <p>The page you requested could not be found.</p>\n",
        "</body>\n",
        "</html>"
      ],
      "execution_count": null,
      "outputs": []
    },
    {
      "cell_type": "markdown",
      "source": [
        "11.How do you structure a Flask app using Blueprints?"
      ],
      "metadata": {
        "id": "JymFjgRg_JUZ"
      }
    },
    {
      "cell_type": "markdown",
      "metadata": {
        "id": "5fa5cfd2"
      },
      "source": [
        "# Task\n",
        "Explain how to structure a Flask application using Blueprints."
      ]
    },
    {
      "cell_type": "markdown",
      "metadata": {
        "id": "9a4d8d08"
      },
      "source": [
        "## Create blueprint files\n",
        "\n",
        "### Subtask:\n",
        "Create separate Python files for each Blueprint (e.g., for different modules or features of your application).\n"
      ]
    },
    {
      "cell_type": "markdown",
      "metadata": {
        "id": "0756ead0"
      },
      "source": [
        "**Reasoning**:\n",
        "The subtask requires creating three separate Python files for different parts of the Flask application structure using Blueprints. The `code_block` command is used to create these files with basic content to represent the Blueprint structure.\n",
        "\n"
      ]
    },
    {
      "cell_type": "code",
      "metadata": {
        "id": "06208ce2"
      },
      "source": [
        "# Create auth.py\n",
        "with open('auth.py', 'w') as f:\n",
        "    f.write('''\n",
        "from flask import Blueprint\n",
        "\n",
        "auth_bp = Blueprint('auth', __name__, url_prefix='/auth')\n",
        "\n",
        "@auth_bp.route('/login')\n",
        "def login():\n",
        "    return 'Login page'\n",
        "\n",
        "@auth_bp.route('/logout')\n",
        "def logout():\n",
        "    return 'Logout page'\n",
        "''')\n",
        "\n",
        "# Create blog.py\n",
        "with open('blog.py', 'w') as f:\n",
        "    f.write('''\n",
        "from flask import Blueprint\n",
        "\n",
        "blog_bp = Blueprint('blog', __name__, url_prefix='/blog')\n",
        "\n",
        "@blog_bp.route('/')\n",
        "def index():\n",
        "    return 'Blog index'\n",
        "\n",
        "@blog_bp.route('/post/<int:post_id>')\n",
        "def post(post_id):\n",
        "    return f'Blog post {post_id}'\n",
        "''')\n",
        "\n",
        "# Create main_app.py\n",
        "with open('main_app.py', 'w') as f:\n",
        "    f.write('''\n",
        "from flask import Flask\n",
        "from auth import auth_bp\n",
        "from blog import blog_bp\n",
        "\n",
        "app = Flask(__name__)\n",
        "\n",
        "# Register Blueprints\n",
        "app.register_blueprint(auth_bp)\n",
        "app.register_blueprint(blog_bp)\n",
        "\n",
        "@app.route('/')\n",
        "def index():\n",
        "    return 'Main application home page'\n",
        "\n",
        "if __name__ == '__main__':\n",
        "    app.run(port=5000)\n",
        "''')"
      ],
      "execution_count": 9,
      "outputs": []
    },
    {
      "cell_type": "markdown",
      "source": [
        "12.How do you define a custom Jinja filter in Flask?"
      ],
      "metadata": {
        "id": "yV-iuog9_WrD"
      }
    },
    {
      "cell_type": "code",
      "metadata": {
        "id": "db8c0384"
      },
      "source": [
        "from flask import Flask, render_template\n",
        "\n",
        "app = Flask(__name__)\n",
        "\n",
        "# Define a custom Jinja filter\n",
        "@app.template_filter('capitalize')\n",
        "def capitalize_filter(s):\n",
        "    return s.capitalize()\n",
        "\n",
        "@app.route('/')\n",
        "def index():\n",
        "    my_text = \"hello, flask user!\"\n",
        "    return render_template('filter_example.html', text=my_text)\n",
        "\n",
        "if __name__ == '__main__':\n",
        "    # Use a port other than 8080 or 8000 because they are often used by Colab's internal processes.\n",
        "    app.run(port=5000)"
      ],
      "execution_count": null,
      "outputs": []
    },
    {
      "cell_type": "markdown",
      "metadata": {
        "id": "493717fa"
      },
      "source": [
        "Now, create a `templates` folder and inside it, create a `filter_example.html` file with the following content:"
      ]
    },
    {
      "cell_type": "code",
      "metadata": {
        "id": "1c15a104"
      },
      "source": [
        "<!DOCTYPE html>\n",
        "<html>\n",
        "<head>\n",
        "    <title>Custom Filter Example</title>\n",
        "</head>\n",
        "<body>\n",
        "    <h1>Custom Jinja Filter Example</h1>\n",
        "    <p>Original text: {{ text }}</p>\n",
        "    <p>Text after applying custom filter: {{ text | capitalize }}</p>\n",
        "</body>\n",
        "</html>"
      ],
      "execution_count": null,
      "outputs": []
    },
    {
      "cell_type": "markdown",
      "source": [
        "13. How can you redirect with query parameters in Flask?"
      ],
      "metadata": {
        "id": "mMz2DgcS_j-s"
      }
    },
    {
      "cell_type": "code",
      "metadata": {
        "id": "0d37f7bd"
      },
      "source": [
        "from flask import Flask, redirect, url_for\n",
        "\n",
        "app = Flask(__name__)\n",
        "\n",
        "@app.route('/')\n",
        "def index():\n",
        "    return 'Welcome to the home page. Go to the <a href=\"/search\">Search</a>.'\n",
        "\n",
        "@app.route('/search')\n",
        "def search():\n",
        "\n",
        "    return 'This is the search results page.'\n",
        "\n",
        "@app.route('/perform_search')\n",
        "def perform_search():\n",
        "    search_query = 'example'\n",
        "    return redirect(url_for('search', q=search_query))\n",
        "\n",
        "if __name__ == '__main__':\n",
        "\n",
        "    app.run(port=5000)"
      ],
      "execution_count": null,
      "outputs": []
    },
    {
      "cell_type": "markdown",
      "source": [
        "14.How do you return JSON responses in Flask?"
      ],
      "metadata": {
        "id": "lpJzkeJz_0Ho"
      }
    },
    {
      "cell_type": "code",
      "metadata": {
        "id": "928a55fb"
      },
      "source": [
        "from flask import Flask, jsonify\n",
        "\n",
        "app = Flask(__name__)\n",
        "\n",
        "@app.route('/api/data')\n",
        "def get_data():\n",
        "    data = {\n",
        "        'name': 'Alice',\n",
        "        'age': 30,\n",
        "        'city': 'New York'\n",
        "    }\n",
        "    return jsonify(data)\n",
        "\n",
        "@app.route('/api/status')\n",
        "def get_status():\n",
        "    status = {\n",
        "        'status': 'ok',\n",
        "        'message': 'Server is running'\n",
        "    }\n",
        "    return jsonify(status)\n",
        "\n",
        "if __name__ == '__main__':\n",
        "\n",
        "    app.run(port=5000)"
      ],
      "execution_count": null,
      "outputs": []
    },
    {
      "cell_type": "markdown",
      "source": [
        "15.How do you capture URL parameters in Flask?"
      ],
      "metadata": {
        "id": "X9vFKKn2_-eA"
      }
    },
    {
      "cell_type": "code",
      "metadata": {
        "id": "2217ddfa"
      },
      "source": [
        "from flask import Flask\n",
        "\n",
        "app = Flask(__name__)\n",
        "\n",
        "@app.route('/user/<username>')\n",
        "def show_user_profile(username):\n",
        "  # username is captured from the URL\n",
        "  return f'User: {username}'\n",
        "\n",
        "@app.route('/post/<int:post_id>')\n",
        "def show_post(post_id):\n",
        "\n",
        "  return f'Post ID: {post_id}'\n",
        "\n",
        "@app.route('/path/<path:subpath>')\n",
        "def show_subpath(subpath):\n",
        "\n",
        "  return f'Subpath: {subpath}'\n",
        "\n",
        "if __name__ == '__main__':\n",
        "\n",
        "  app.run(port=5000)"
      ],
      "execution_count": null,
      "outputs": []
    }
  ]
}